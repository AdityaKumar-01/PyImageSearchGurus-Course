{
 "cells": [
  {
   "cell_type": "markdown",
   "metadata": {},
   "source": [
    "## LIGHTING CONDITIONS\n",
    "- In general, your lighting conditions should have three primary goals. Let’s review them below.\n",
    "    - **High Contrast**\n",
    "        - Maximize the contrast between the Regions of Interest in your image (objects\n",
    "    you want to detect, extract, describe classify, manipulate, etc. should have\n",
    "    sufficiently high contrast from the rest of the image so they are easily \n",
    "    detectable).\n",
    "\n",
    "    - **Generalizable**\n",
    "        - Your lighting conditions should be consistent enough that they work well from one\n",
    "    object to the next. If our goal is to identify various United States coins \n",
    "    in an image, our lighting conditions should be generalizable enough to \n",
    "    facilitate in the coin identification, whether we are examining a penny,\n",
    "    nickel, dime, or quarter.\n",
    "\n",
    "    - **Stable**\n",
    "        - Having stable, consistent, and repeatable lighting conditions is the holy grail \n",
    "of computer vision application development. However, it’s often hard (if not \n",
    "impossible) to guarantee — this is especially true if we are developing computer\n",
    "vision algorithms that are intended to work in outdoor lighting conditions.\n",
    "As the time of day changes, clouds roll in over the sun, and rain starts to pour,\n",
    "our lighting conditions will obviously change.\n",
    "\n",
    "## COLOR SPACES\n",
    "- RGB \n",
    "- HSV\n",
    "    - Hue: Which “pure” color we are examining. For example, all shadows and tones of the color “red” will have the same Hue.\n",
    "    - Saturation: How “white” the color is. A fully saturated color would be pure, as in “pure red.” And a color with zero saturation would be pure white.\n",
    "    - Value: The Value allows us to control the lightness of our color. A Value of zero would indicate pure black, whereas increasing the value would produce lighter colors.\n",
    "    - Useful when building applications where we are tracking color of some object in an image.\n",
    "    - Easier to define valid color range using HSV than it is RGB\n",
    "- L\\*a\\*b:\n",
    "    - RGB is non-intuitive when defining exact shades of a color or specifyig a particular range of colors\n",
    "    - HSV color space is more intuitive but does not do the best job in representing how humans see and interpret colors in images.\n",
    "    - L\\*a\\*b  goal is to mimic the methodology in which humans see and interpret color.\n",
    "    - L-channel: Lightness of pixel. This value goes up and doesn the vertical axis, white to black, with neutral grays at the center of the axis.\n",
    "    - a-channel: Originates from the center of the L-channel and defines pure green on one end of spectrum and pure red on the other.\n",
    "    - b-channel: Also originates from the center of the L-channel but is perpendicular to the a-channel. The b-channel defines pure blue at one end of spectrum and pure yellow at the other\n",
    "    - \n",
    "        \n",
    "# NO CODE"
   ]
  },
  {
   "cell_type": "code",
   "execution_count": null,
   "metadata": {},
   "outputs": [],
   "source": []
  }
 ],
 "metadata": {
  "kernelspec": {
   "display_name": "Python 3",
   "language": "python",
   "name": "python3"
  },
  "language_info": {
   "codemirror_mode": {
    "name": "ipython",
    "version": 3
   },
   "file_extension": ".py",
   "mimetype": "text/x-python",
   "name": "python",
   "nbconvert_exporter": "python",
   "pygments_lexer": "ipython3",
   "version": "3.8.2"
  }
 },
 "nbformat": 4,
 "nbformat_minor": 4
}
