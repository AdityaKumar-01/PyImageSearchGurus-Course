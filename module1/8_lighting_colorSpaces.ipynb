{
 "cells": [
  {
   "cell_type": "markdown",
   "metadata": {},
   "source": [
    "## LIGHTING CONDITIONS\n",
    "- In general, your lighting conditions should have three primary goals. Let’s review them below.\n",
    "    - **High Contrast**\n",
    "        - Maximize the contrast between the Regions of Interest in your image (objects\n",
    "    you want to detect, extract, describe classify, manipulate, etc. should have\n",
    "    sufficiently high contrast from the rest of the image so they are easily \n",
    "    detectable).\n",
    "\n",
    "    - **Generalizable**\n",
    "        - Your lighting conditions should be consistent enough that they work well from one\n",
    "    object to the next. If our goal is to identify various United States coins \n",
    "    in an image, our lighting conditions should be generalizable enough to \n",
    "    facilitate in the coin identification, whether we are examining a penny,\n",
    "    nickel, dime, or quarter.\n",
    "\n",
    "    - **Stable**\n",
    "        - Having stable, consistent, and repeatable lighting conditions is the holy grail \n",
    "of computer vision application development. However, it’s often hard (if not \n",
    "impossible) to guarantee — this is especially true if we are developing computer\n",
    "vision algorithms that are intended to work in outdoor lighting conditions.\n",
    "As the time of day changes, clouds roll in over the sun, and rain starts to pour,\n",
    "our lighting conditions will obviously change.\n",
    "\n",
    "## COLOR SPACES\n",
    "1) RGB <br>\n",
    "2) HSV\n",
    "    Hue: Which “pure” color we are examining. For example, all shadows and tones\n",
    "        of the color “red” will have the same Hue.\n",
    "    Saturation: How “white” the color is. A fully saturated color would be pure,\n",
    "        as in “pure red.” And a color with zero saturation would be pure white.\n",
    "    Value: The Value allows us to control the lightness of our color. A Value of\n",
    "        zero would indicate pure black, whereas increasing the value would produce \n",
    "        lighter colors.\n",
    "        \n",
    "# NO CODE"
   ]
  }
 ],
 "metadata": {
  "kernelspec": {
   "display_name": "Python 3",
   "language": "python",
   "name": "python3"
  },
  "language_info": {
   "codemirror_mode": {
    "name": "ipython",
    "version": 3
   },
   "file_extension": ".py",
   "mimetype": "text/x-python",
   "name": "python",
   "nbconvert_exporter": "python",
   "pygments_lexer": "ipython3",
   "version": "3.8.2"
  }
 },
 "nbformat": 4,
 "nbformat_minor": 4
}
