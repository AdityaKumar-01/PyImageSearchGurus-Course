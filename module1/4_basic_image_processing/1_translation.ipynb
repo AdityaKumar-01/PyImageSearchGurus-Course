{
 "cells": [
  {
   "cell_type": "code",
   "execution_count": null,
   "metadata": {},
   "outputs": [],
   "source": [
    "import argparse\n",
    "import cv2\n",
    "import numpy as np\n",
    "import imutils\n",
    "\n",
    "#construct the argument parser and parse the arguments\n",
    "ap = argparse.ArgumentParser()\n",
    "ap.add_argument(\"-i\", \"--image\", required=True, help=\"Image\")\n",
    "args = vars(ap.parse_args())\n",
    "\n",
    "image = cv2.imread(args[\"image\"])\n",
    "cv2.imshow(\"Original\",image)\n",
    "\n",
    "#Translating image is given by a Numpy Matrix\n",
    "#M = [[1,0,shiftX], [0,1,shiftY]]\n",
    "\n",
    "M = np.float32([[1, 0, 25], [0, 1, 50]])\n",
    "shifted = cv2.warpAffine(image, M, (image.shape[1], image.shape[0]))\n",
    "cv2.imshow(\"Shifted down and right\", shifted)\n",
    "\n",
    "M = np.float32([[1, 0, -25], [0, 1, -50]])\n",
    "shifted = cv2.warpAffine(image, M, (image.shape[1], image.shape[0]))\n",
    "cv2.imshow(\"Shifted Up and left\", shifted)\n",
    "\n",
    "\n",
    "shifted = imutils.translate(image, 40, 100)\n",
    "cv2.imshow(\"Using imutils\", shifted)\n",
    "\n",
    "cv2.waitKey(0)"
   ]
  }
 ],
 "metadata": {
  "kernelspec": {
   "display_name": "Python 3",
   "language": "python",
   "name": "python3"
  },
  "language_info": {
   "codemirror_mode": {
    "name": "ipython",
    "version": 3
   },
   "file_extension": ".py",
   "mimetype": "text/x-python",
   "name": "python",
   "nbconvert_exporter": "python",
   "pygments_lexer": "ipython3",
   "version": "3.8.2"
  }
 },
 "nbformat": 4,
 "nbformat_minor": 4
}
