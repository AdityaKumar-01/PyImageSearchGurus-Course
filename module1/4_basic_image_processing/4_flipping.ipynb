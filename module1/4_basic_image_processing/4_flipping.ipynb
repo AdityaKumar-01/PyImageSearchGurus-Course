{
 "cells": [
  {
   "cell_type": "code",
   "execution_count": null,
   "metadata": {},
   "outputs": [],
   "source": [
    "# Flip image around either x or y axis\n",
    "\n",
    "import cv2\n",
    "import argparse\n",
    "\n",
    "ap = argparse.ArgumentParser()\n",
    "ap.add_argument(\"-i\", \"--image\", required=True, help=\"Path to the image\")\n",
    "args = vars(ap.parse_args())\n",
    "\n",
    "image = cv2.imread(args[\"image\"])\n",
    "cv2.imshow(\"Original\", image)\n",
    "\n",
    "#flip horizontally\n",
    "flipped = cv2.flip(image, 1)\n",
    "cv2.imshow(\"Horizontal flip\", flipped)\n",
    "\n",
    "#flip vertically\n",
    "flipped = cv2.flip(image, 0)\n",
    "cv2.imshow(\"Vertical flip\", flipped)\n",
    "\n",
    "cv2.waitKey(0)"
   ]
  }
 ],
 "metadata": {
  "kernelspec": {
   "display_name": "Python 3",
   "language": "python",
   "name": "python3"
  },
  "language_info": {
   "codemirror_mode": {
    "name": "ipython",
    "version": 3
   },
   "file_extension": ".py",
   "mimetype": "text/x-python",
   "name": "python",
   "nbconvert_exporter": "python",
   "pygments_lexer": "ipython3",
   "version": "3.8.2"
  }
 },
 "nbformat": 4,
 "nbformat_minor": 4
}
