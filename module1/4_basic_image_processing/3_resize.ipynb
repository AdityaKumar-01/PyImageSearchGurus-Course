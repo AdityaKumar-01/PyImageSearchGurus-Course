{
 "cells": [
  {
   "cell_type": "code",
   "execution_count": null,
   "metadata": {},
   "outputs": [],
   "source": [
    "import cv2\n",
    "import imutils\n",
    "import argparse\n",
    "\n",
    "ap = argparse.ArgumentParser()\n",
    "ap.add_argument(\"-i\",\"--image\",required=True, help=\"Image\")\n",
    "args = vars(ap.parse_args())\n",
    "\n",
    "image = cv2.imread(args[\"image\"])\n",
    "cv2.imshow(\"Original\", image)\n",
    "\n",
    "r = 150.0/image.shape[1]\n",
    "dim = (150, int(image.shape[0]*r))\n",
    "\n",
    "resized = cv2.resize(image, dim, interpolation=cv2.INTER_AREA)\n",
    "cv2.imshow(\"resized\", resized)\n",
    "\n",
    "resized = imutils.resize(image, width=100)\n",
    "cv2.imshow(\"resized using imutils\", resized)\n",
    "\n",
    "cv2.waitKey(0)\n",
    "\n",
    "\n",
    "#interpolation methods\n",
    "## cv2.INTER_AREA\n",
    "## cv2.INTER_NEAREST\n",
    "## cv2.INTER_LINEAR\n",
    "## cv2.INTER_CUBIC\n",
    "## cv2.INTER_LANCZOS4"
   ]
  }
 ],
 "metadata": {
  "kernelspec": {
   "display_name": "Python 3",
   "language": "python",
   "name": "python3"
  },
  "language_info": {
   "codemirror_mode": {
    "name": "ipython",
    "version": 3
   },
   "file_extension": ".py",
   "mimetype": "text/x-python",
   "name": "python",
   "nbconvert_exporter": "python",
   "pygments_lexer": "ipython3",
   "version": "3.8.2"
  }
 },
 "nbformat": 4,
 "nbformat_minor": 4
}
