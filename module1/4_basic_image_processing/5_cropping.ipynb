{
 "cells": [
  {
   "cell_type": "code",
   "execution_count": null,
   "metadata": {},
   "outputs": [],
   "source": [
    "#removing parts of image we dont want\n",
    "#Region of Interest\n",
    "\n",
    "import cv2\n",
    "\n",
    "image = cv2.imread(\"../load_display_save/florida_trip.png\")\n",
    "cv2.imshow(\"Original\", image)\n",
    "\n",
    "#crop face\n",
    "face = image[85:250, 85:220]\n",
    "cv2.imshow(\"Face\", face)\n",
    "cv2.waitKey(0)\n"
   ]
  }
 ],
 "metadata": {
  "kernelspec": {
   "display_name": "Python 3",
   "language": "python",
   "name": "python3"
  },
  "language_info": {
   "codemirror_mode": {
    "name": "ipython",
    "version": 3
   },
   "file_extension": ".py",
   "mimetype": "text/x-python",
   "name": "python",
   "nbconvert_exporter": "python",
   "pygments_lexer": "ipython3",
   "version": "3.8.2"
  }
 },
 "nbformat": 4,
 "nbformat_minor": 4
}
