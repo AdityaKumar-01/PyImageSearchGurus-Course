{
 "cells": [
  {
   "cell_type": "code",
   "execution_count": null,
   "metadata": {},
   "outputs": [],
   "source": [
    "import cv2\n",
    "import numpy as np\n",
    "import argparse\n",
    "import imutils\n",
    "\n",
    "ap = argparse.ArgumentParser()\n",
    "ap.add_argument(\"-i\",\"--image\",required=True, help=\"Image\")\n",
    "args = vars(ap.parse_args())\n",
    "\n",
    "#load and display image\n",
    "image = cv2.imread(args[\"image\"])\n",
    "cv2.imshow(\"Original\", image)\n",
    "\n",
    "#get center of image\n",
    "(h,w) = image.shape[:2]\n",
    "(cx, cy) = (w//2, h//2)\n",
    "\n",
    "#rotate image by 45 degrees and scale 1\n",
    "M = cv2.getRotationMatrix2D((cx,cy), 45, 1.0)\n",
    "rotated = cv2.warpAffine(image, M, (w,h))\n",
    "cv2.imshow(\"Rotated by 45 degrees\", rotated)\n",
    "\n",
    "rotated = imutils.rotate(image, 80)\n",
    "cv2.imshow(\"Rotated using 80 degrees counter-clock\", rotated)\n",
    "cv2.waitKey(0)"
   ]
  }
 ],
 "metadata": {
  "kernelspec": {
   "display_name": "Python 3",
   "language": "python",
   "name": "python3"
  },
  "language_info": {
   "codemirror_mode": {
    "name": "ipython",
    "version": 3
   },
   "file_extension": ".py",
   "mimetype": "text/x-python",
   "name": "python",
   "nbconvert_exporter": "python",
   "pygments_lexer": "ipython3",
   "version": "3.8.2"
  }
 },
 "nbformat": 4,
 "nbformat_minor": 4
}
