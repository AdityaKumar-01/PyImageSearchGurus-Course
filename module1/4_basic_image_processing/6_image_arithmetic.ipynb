{
 "cells": [
  {
   "cell_type": "code",
   "execution_count": null,
   "metadata": {},
   "outputs": [],
   "source": [
    "'''\n",
    "NumPy will perform modulus arithmetic and wrap around.\n",
    "OpenCV, on the other hand, will perform clipping and ensure pixel values never fall outside the range [0, 255].\n",
    "'''\n",
    "\n",
    "import numpy as np\n",
    "import argparse\n",
    "import cv2\n",
    "\n",
    "ap = argparse.ArgumentParser()\n",
    "ap.add_argument(\"-i\",\"--image\", required=True, help=\"Image\")\n",
    "args = vars(ap.parse_args())\n",
    "\n",
    "image = cv2.imread(args[\"image\"])\n",
    "cv2.imshow(\"Original\", image)\n",
    "cv2.waitKey(0)\n",
    "\n",
    "#using cv2.add or subtract, the values get clipped if it goes beyond [0,255]\n",
    "#print(\"Max of 255: {}\".format(str(cv2.add(np.uint8(200), np.uint8(100)))))\n",
    "#print(\"Min of 0\", cv2.subtract(np.uint8(100), np.uint8(200)))\n",
    "\n",
    "#using numpy addition and subtraction\n",
    "#print(\"wrap around1\", np.uint8(240)+np.uint8(50))\n",
    "#print(\"wrap around2\", np.uint8(40)-np.uint8(200))\n",
    "\n",
    "M = np.ones(image.shape, dtype='uint8')*100\n",
    "added = cv2.add(image, M)\n",
    "cv2.imshow(\"added\", added)\n",
    "\n",
    "M = np.ones(image.shape, dtype='uint8')*50\n",
    "subtracted = cv2.subtract(image, M)\n",
    "cv2.imshow(\"subtracted\", subtracted)\n",
    "cv2.waitKey(0)\n"
   ]
  }
 ],
 "metadata": {
  "kernelspec": {
   "display_name": "Python 3",
   "language": "python",
   "name": "python3"
  },
  "language_info": {
   "codemirror_mode": {
    "name": "ipython",
    "version": 3
   },
   "file_extension": ".py",
   "mimetype": "text/x-python",
   "name": "python",
   "nbconvert_exporter": "python",
   "pygments_lexer": "ipython3",
   "version": "3.8.2"
  }
 },
 "nbformat": 4,
 "nbformat_minor": 4
}
