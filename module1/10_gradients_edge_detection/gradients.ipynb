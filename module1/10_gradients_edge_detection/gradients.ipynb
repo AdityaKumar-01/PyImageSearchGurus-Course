{
 "cells": [
  {
   "cell_type": "markdown",
   "metadata": {},
   "source": [
    "## GRADIENTS\n",
    "- We use gradients for detecting edges in images, which allows us to find contours and outlines \n",
    "    of objects in images.\n",
    "- We use them as inputs for quantifying images through feature extraction.\n",
    "- Histrogram of Oriented Gradients and SIFT are built upon gradient.\n",
    "- Gradient images used to construct saliency, which highlight the subjects of animage\n",
    "- Objectives:\n",
    "    - Gradient magnitude: Measure of how strong the change in image intensity\n",
    "      is.\n",
    "    - Gradient orientation: In which direction the change in intensity is\n",
    "      pointing\n",
    "    - cv2.Sobel.\n",
    "\n",
    "## EDGE DETECTION\n",
    "- Process of finding edges in an image which reveals strucural information\n",
    "  regarding objects in an image.\n",
    "\n",
    "## Sobel and Scharr Kernels\n",
    "$G_{x} = \\begin{bmatrix}-1 & 0 & +1 \\\\  -2 & 0 & +2 \\\\  -1 & 0 & +1\\end{bmatrix}$\n",
    "\n",
    "$G_{y} = \\begin{bmatrix}-1 & -2 & -1 \\\\  0 & 0 & 0 \\\\  +1 & +2 & +1\\end{bmatrix}$\n",
    "\n",
    "## GRADIENT MAGNITUDE AND ORIENTATION\n",
    "\n",
    "- Gradient Magnitude:\n",
    "    $G = \\sqrt{G_{x}^{2} + G_{y}^{2}}$\n",
    "- Gradient Orientation\n",
    "    $\\theta = arctan2(G_{y}, G_{x}) \\times (\\frac{180}{\\pi})$"
   ]
  },
  {
   "cell_type": "code",
   "execution_count": null,
   "metadata": {},
   "outputs": [],
   "source": [
    "import argparse \n",
    "import cv2\n",
    "import numpy as np\n",
    "# construct the argument parser and parse the arguments\n",
    "ap = argparse.ArgumentParser()\n",
    "ap.add_argument(\"-i\", \"--image\", required=True, help=\"Path to the image\")\n",
    "ap.add_argument(\"-l\",\"--min-angle\", type=float, default=175.0)\n",
    "ap.add_argument(\"-u\", \"--max-angle\", type=float, default=180.0)\n",
    "args = vars(ap.parse_args())\n",
    " \n",
    "# load the image, convert it to grayscale, and display the original\n",
    "# image\n",
    "image = cv2.imread(args[\"image\"])\n",
    "gray = cv2.cvtColor(image, cv2.COLOR_BGR2GRAY)\n",
    "cv2.imshow(\"Original\", image)\n",
    "    \n",
    "gx = cv2.Sobel(gray, ddepth=cv2.CV_64F, dx=1, dy=0)\n",
    "gy = cv2.Sobel(gray, ddepth=cv2.CV_64F, dx=0, dy=1)\n",
    "\n",
    "gx = cv2.convertScaleAbs(gx)\n",
    "gy = cv2.convertScaleAbs(gy)\n",
    "\n",
    "sobelCombined = cv2.addWeighted(gx, 0.5, gy, 0.5, 0)\n",
    "\n",
    "cv2.imshow(\"Sobel X\", gx)\n",
    "cv2.imshow(\"Sobel Y\", gy)\n",
    "cv2.imshow(\"Sobel Combined\", sobelCombined)\n",
    "cv2.waitKey(0)"
   ]
  },
  {
   "cell_type": "code",
   "execution_count": null,
   "metadata": {},
   "outputs": [],
   "source": [
    "gx = cv2.Sobel(gray, ddepth=cv2.CV_64F, dx=1, dy=0)\n",
    "gy = cv2.Sobel(gray, ddepth=cv2.CV_64F, dx=0, dy=1)\n",
    "\n",
    "mag = np.sqrt((gx**2)+(gy**2))\n",
    "orientation = np.arctan2(gy,gx)*(180/np.pi)%180\n",
    "\n",
    "idxs = np.where(orientation>=args[\"min_angle\"], orientation, -1)\n",
    "idxs = np.where(orientation<=args[\"max_angle\"], idxs, -1)\n",
    "mask = np.zeros(gray.shape, dtype='uint8')\n",
    "mask[idxs>-1] = 255\n",
    "\n",
    "cv2.destroyAllWindows()\n",
    "cv2.imshow(\"Original\", image)\n",
    "cv2.imshow(\"Mask\", mask)\n",
    "cv2.waitKey(0)"
   ]
  }
 ],
 "metadata": {
  "kernelspec": {
   "display_name": "Python 3",
   "language": "python",
   "name": "python3"
  },
  "language_info": {
   "codemirror_mode": {
    "name": "ipython",
    "version": 3
   },
   "file_extension": ".py",
   "mimetype": "text/x-python",
   "name": "python",
   "nbconvert_exporter": "python",
   "pygments_lexer": "ipython3",
   "version": "3.8.2"
  }
 },
 "nbformat": 4,
 "nbformat_minor": 4
}
