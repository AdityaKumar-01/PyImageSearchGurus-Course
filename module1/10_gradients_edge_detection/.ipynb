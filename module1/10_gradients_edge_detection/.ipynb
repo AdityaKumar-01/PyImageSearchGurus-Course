{
 "cells": [
  {
   "cell_type": "markdown",
   "metadata": {},
   "source": [
    "## GRADIENTS\n",
    "- We use gradients for detecting edges in images, which allows us to find contours and outlines \n",
    "    of objects in images.\n",
    "- We use them as inputs for quantifying images through feature extraction.\n",
    "- Histrogram of Oriented Gradients and SIFT are built upon gradient.\n",
    "- Gradient images used to construct saliency, which highlight the subjects of animage\n",
    "- Objectives:\n",
    "    - Gradient magnitude: Measure of how strong the change in image intensity\n",
    "      is.\n",
    "    - Gradient orientation: In which direction the change in intensity is\n",
    "      pointing\n",
    "    - cv2.Sobel.\n",
    "\n",
    "## EDGE DETECTION\n",
    "- Process of finding edges in an image which reveals strucural information\n",
    "  regarding objects in an image.\n",
    "\n",
    "## Sobel and Scharr Kernels\n",
    "$G_{x} = \\begin{bmatrix}-1 & 0 & +1 \\\\  -2 & 0 & +2 \\\\  -1 & 0 & +1\\end{bmatrix}$\n",
    "\n",
    "$G_{y} = \\begin{bmatrix}-1 & -2 & -1 \\\\  0 & 0 & 0 \\\\  +1 & +2 & +1\\end{bmatrix}$\n",
    "\n",
    "## GRADIENT MAGNITUDE AND ORIENTATION\n",
    "\n",
    "- Gradient Magnitude:\n",
    "    $G = \\sqrt{G_{x}^{2} + G_{y}^{2}}$\n",
    "- Gradient Orientation\n",
    "    $\\theta = arctan2(G_{y}, G_{x}) \\times (\\frac{180}{\\pi})$"
   ]
  },
  {
   "cell_type": "code",
   "execution_count": null,
   "metadata": {},
   "outputs": [],
   "source": []
  }
 ],
 "metadata": {
  "kernelspec": {
   "display_name": "Python 3",
   "language": "python",
   "name": "python3"
  },
  "language_info": {
   "codemirror_mode": {
    "name": "ipython",
    "version": 3
   },
   "file_extension": ".py",
   "mimetype": "text/x-python",
   "name": "python",
   "nbconvert_exporter": "python",
   "pygments_lexer": "ipython3",
   "version": "3.8.2"
  }
 },
 "nbformat": 4,
 "nbformat_minor": 4
}
