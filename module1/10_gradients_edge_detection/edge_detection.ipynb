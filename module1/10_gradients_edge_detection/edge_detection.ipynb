{
 "cells": [
  {
   "cell_type": "markdown",
   "metadata": {},
   "source": [
    "## Canny Edge Detector\n",
    "- While image gradients tend to be important building blocks for more advanced techniques like the Canny edge detector\n",
    "- An edge is defined as a discontuinity in pixel intensity or more simply a sharp difference and change in pixel values.\n",
    "\n",
    "### Types of edges in an image \n",
    "- **Step Edge**: Forms when there is an abrupt change in pixel intensity from one side of the discontuinity to the other.\n",
    "- **Ramp Edge**: Change in pixel intensity is not instantenous. Instead, the change in pixel valye occurs a short but finite distance.\n",
    "- **Ridge Edge**: Occurs when image intensity abruptly changes and then return to initial value after a short distance.\n",
    "- **Roof edge**: Unlike the ridge edge where there is short, finite plateau at the top, roof edge has no such plateau. Its like a tip of an arrow.\n",
    "\n",
    "\n",
    "### Steps in Canny edge detection:\n",
    "- **Gaussian smoothing**: We want to ignore the much of the detail and focus on actual structure, thus we apply smoothing.\n",
    "- **Gradient orientation and magnitude**: Quite susceptible to noise and does not make for the best edge detector. Thus, two more steps.\n",
    "- **Non-maxima suppression (Edge thinning)**: For a given region, there should be only one edge response.\n",
    "    - Compute $G$ and $\\theta$ at each pixel in the image.\n",
    "    - Compare the current(center) pixel in the region to the 3x3 neighbour surrounding it\n",
    "    - Determine which direction Orientation is pointing. If orientation towards\n",
    "        - North/south, examine north and south magnitudes.\n",
    "        - East/west, examine east and west magnitudes\n",
    "    - If center pixel intensity > both the pixels being compared to, keep it, else discard center pixel.\n",
    "- **Hysteresis thresholding**: To remove regions of an image that are still not technically edges, we need to define two thresholds: $T_{lower}$ and $T_{upper}$\n",
    "    - Any gradient value $G > T_{upper}$ is sure to be an edge(strong edge)\n",
    "    - Any gradient value $G < T_{lower}$ is not an edge, so discard\n",
    "    - Any gradient value that is $T_{lower}< G< T_{upper}$, must undergo two more tests\n",
    "        - If particular edge connected to strong edge, then pixel is an edge.\n",
    "        - If the gradient pixel is not connected to a strong edge the discard it."
   ]
  },
  {
   "cell_type": "code",
   "execution_count": null,
   "metadata": {},
   "outputs": [],
   "source": [
    "import argparse\n",
    "import cv2\n",
    "\n",
    "ap = argparse.ArgumentParser()\n",
    "ap.add_argument(\"-i\",\"--image\", required=True, help=\"Image\")\n",
    "args = vars(ap.parse_args())\n",
    "\n",
    "image = cv2.imread(args[\"image\"])\n",
    "gray = cv2.cvtColor(image, cv2.COLOR_BGR2GRAY)\n",
    "blurred = cv2.GaussianBlur(gray, (5,5), 0)\n",
    "\n",
    "cv2.imshow(\"Original\", image)\n",
    "cv2.imshow(\"Blurred\", blurred)\n",
    "\n",
    "wide = cv2.Canny(blurred, 10, 200)\n",
    "mid = cv2.Canny(blurred, 30,150)\n",
    "tight = cv2.Canny(blurred, 240,250)\n",
    "\n",
    "cv2.imshow(\"Wide Edge Map\", wide)\n",
    "cv2.imshow(\"Mid Edge Map\", mid)\n",
    "cv2.imshow(\"Tight Edge Map\", tight)\n",
    "\n",
    "cv2.waitKey(0)"
   ]
  }
 ],
 "metadata": {
  "kernelspec": {
   "display_name": "Python 3",
   "language": "python",
   "name": "python3"
  },
  "language_info": {
   "codemirror_mode": {
    "name": "ipython",
    "version": 3
   },
   "file_extension": ".py",
   "mimetype": "text/x-python",
   "name": "python",
   "nbconvert_exporter": "python",
   "pygments_lexer": "ipython3",
   "version": "3.8.2"
  }
 },
 "nbformat": 4,
 "nbformat_minor": 4
}
