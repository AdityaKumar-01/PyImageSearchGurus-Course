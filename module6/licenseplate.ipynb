{
 "cells": [
  {
   "cell_type": "code",
   "execution_count": 1,
   "metadata": {},
   "outputs": [],
   "source": [
    "import numpy as np\n",
    "import cv2\n",
    "import imutils\n",
    "import sys\n",
    "sys.path.append(\"../\")\n",
    "from cv_imshow import display_image, create_subplot"
   ]
  },
  {
   "cell_type": "code",
   "execution_count": 2,
   "metadata": {},
   "outputs": [],
   "source": [
    "class LicensePlateDetector:\n",
    "    def __init__(self, image, minPlateW=60, minPlateH=20):\n",
    "        self.image = image\n",
    "        self.minPlateH = minPlateH\n",
    "        self.minPlateW = minPlateH\n",
    "    \n",
    "    def detect(self):\n",
    "        return self.detectPlates()\n",
    "    \n",
    "    def detectPlates(self):\n",
    "        #init the rectangular and square kernels to be applied\n",
    "        #to the image then init the list of license plate regions\n",
    "        rectKernel = cv2.getStructuringElement(cv2.MORPH_RECT, (13,5))\n",
    "        squareKernel = cv2.getStructuringElement(cv2.MORPH_RECT, (3,3))\n",
    "        \n",
    "        gray = cv2.cvtColor(self.image, cv2.COLOR_BGR2GRAY)\n",
    "        blackhat = cv2.morphologyEx(gray, cv2.MORPH_BLACKHAT, rectKernel)\n",
    "        \n",
    "        tophat = cv2.morphologyEx(gray, cv2.MORPH_TOPHAT, rectKernel)\n",
    "        \n",
    "        \n",
    "        \n",
    "        #dilated = cv2.dilate(blackhat, rectKernel, iterations=4)\n",
    "        return (blackhat, tophat)"
   ]
  },
  {
   "cell_type": "code",
   "execution_count": 3,
   "metadata": {},
   "outputs": [],
   "source": [
    "?cv2.Sobel"
   ]
  },
  {
   "cell_type": "code",
   "execution_count": null,
   "metadata": {},
   "outputs": [],
   "source": []
  }
 ],
 "metadata": {
  "kernelspec": {
   "display_name": "Python 3",
   "language": "python",
   "name": "python3"
  },
  "language_info": {
   "codemirror_mode": {
    "name": "ipython",
    "version": 3
   },
   "file_extension": ".py",
   "mimetype": "text/x-python",
   "name": "python",
   "nbconvert_exporter": "python",
   "pygments_lexer": "ipython3",
   "version": "3.8.2"
  }
 },
 "nbformat": 4,
 "nbformat_minor": 4
}
