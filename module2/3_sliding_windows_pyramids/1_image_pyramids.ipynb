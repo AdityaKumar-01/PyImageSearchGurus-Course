{
 "cells": [
  {
   "cell_type": "markdown",
   "metadata": {},
   "source": [
    "# Image Pyramids\n",
    "\n",
    "## Objectives\n",
    "- Discuss pyramids for object detection\n",
    "- Implementat image pyramid using Python and Opencv\n",
    "\n",
    "## Image Pyramids\n",
    "- Pipeline to implement custom object detector\n",
    "<img src=\"../../images/embedded_images/image_pyramid_pipeline.png\" alt=\"image_pyramid\" width=\"200\"/>\n",
    "- The first step is to implement the scanning functionality, which will enable us to find objects in images at various sizes and locations.\n",
    "- Scanner can be broken into:\n",
    "    - Image Pyramid: Multi-scale representation of an image, to find objects in imanges at different scales.\n",
    "    - Sliding window: Find objects in various locations.\n",
    "<img src=\"../../images/embedded_images/brisk_pyramid_example.png\" alt=\"image_pyramid\" width=\"200\"/>"
   ]
  },
  {
   "cell_type": "code",
   "execution_count": null,
   "metadata": {},
   "outputs": [],
   "source": []
  }
 ],
 "metadata": {
  "kernelspec": {
   "display_name": "Python 3",
   "language": "python",
   "name": "python3"
  },
  "language_info": {
   "codemirror_mode": {
    "name": "ipython",
    "version": 3
   },
   "file_extension": ".py",
   "mimetype": "text/x-python",
   "name": "python",
   "nbconvert_exporter": "python",
   "pygments_lexer": "ipython3",
   "version": "3.8.2"
  }
 },
 "nbformat": 4,
 "nbformat_minor": 4
}
