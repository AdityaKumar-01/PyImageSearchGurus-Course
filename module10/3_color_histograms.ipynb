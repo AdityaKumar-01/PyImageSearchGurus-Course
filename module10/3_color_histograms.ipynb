{
 "cells": [
  {
   "cell_type": "markdown",
   "metadata": {},
   "source": [
    "# COLOR HISTOGRAM\n",
    "- Objectives:\n",
    "    - Learn how histograms can be used ass image descriptors\n",
    "    - Apply k-means clustering to cluster color histogram features.\n",
    "- Color histogram counts the number of times a given pixel intensity (or range of pixel intensities) occurs in an image.\n",
    "- Define the type of histogram we want to extract, then extract our color histograms from each image, and then apply k-means clustering to cluster and group the vacation photos into their respective categories"
   ]
  },
  {
   "cell_type": "code",
   "execution_count": 7,
   "metadata": {},
   "outputs": [],
   "source": [
    "import sys\n",
    "sys.path.append(\"../\")"
   ]
  },
  {
   "cell_type": "code",
   "execution_count": 8,
   "metadata": {},
   "outputs": [],
   "source": [
    "import cv2\n",
    "from imutils import paths\n",
    "from sklearn.cluster import KMeans\n",
    "import numpy as np\n",
    "from cv_imshow import display_image, create_subplot"
   ]
  },
  {
   "cell_type": "code",
   "execution_count": 2,
   "metadata": {},
   "outputs": [],
   "source": [
    "class LabHistogram:\n",
    "    def __init__(self, bins):\n",
    "        self.bins = bins\n",
    "    \n",
    "    def describe(self, image, mask=None):\n",
    "        #convert image to L*a*b, compute histogram and normalize\n",
    "        lab = cv2.cvtColor(image, cv2.COLOR_BGR2LAB)\n",
    "        hist = cv2.calcHist([lab], [0,1,2], mask, self.bins, [0,256,0,256,0,256])\n",
    "        \n",
    "        hist = cv2.normalize(hist, hist).flatten()\n",
    "        return hist"
   ]
  },
  {
   "cell_type": "code",
   "execution_count": 9,
   "metadata": {},
   "outputs": [],
   "source": [
    "args = {\n",
    "    \"dataset\": \"../images/dataset\",\n",
    "    \"clusters\": 2\n",
    "}"
   ]
  },
  {
   "cell_type": "markdown",
   "metadata": {},
   "source": [
    "- The Euclidean distance between two colors in the L*a*b* has perceptual and noticeable meaning. And since the k-means clustering algorithm assumes a Euclidean space, we will get better clusters by using the L*a*b* color space than RGB or HSV.\n",
    "-  Bins = [8,8,8] gives a 3D histogram, which is flattened in labhistogram.describe to 512-d feature vector.\n",
    "- Each image has a 512-d feature vector. All the feature vectors are clustered using KMeans. "
   ]
  },
  {
   "cell_type": "code",
   "execution_count": 5,
   "metadata": {},
   "outputs": [
    {
     "ename": "AttributeError",
     "evalue": "module 'imutils' has no attribute 'paths'",
     "output_type": "error",
     "traceback": [
      "\u001b[0;31m---------------------------------------------------------------------------\u001b[0m",
      "\u001b[0;31mAttributeError\u001b[0m                            Traceback (most recent call last)",
      "\u001b[0;32m<ipython-input-5-e00049e37b22>\u001b[0m in \u001b[0;36m<module>\u001b[0;34m\u001b[0m\n\u001b[1;32m      2\u001b[0m \u001b[0mdata\u001b[0m \u001b[0;34m=\u001b[0m \u001b[0;34m[\u001b[0m\u001b[0;34m]\u001b[0m\u001b[0;34m\u001b[0m\u001b[0;34m\u001b[0m\u001b[0m\n\u001b[1;32m      3\u001b[0m \u001b[0;34m\u001b[0m\u001b[0m\n\u001b[0;32m----> 4\u001b[0;31m \u001b[0mimagePaths\u001b[0m \u001b[0;34m=\u001b[0m \u001b[0mlist\u001b[0m\u001b[0;34m(\u001b[0m\u001b[0mimutils\u001b[0m\u001b[0;34m.\u001b[0m\u001b[0mpaths\u001b[0m\u001b[0;34m.\u001b[0m\u001b[0mlist_images\u001b[0m\u001b[0;34m(\u001b[0m\u001b[0margs\u001b[0m\u001b[0;34m[\u001b[0m\u001b[0;34m\"dataset\"\u001b[0m\u001b[0;34m]\u001b[0m\u001b[0;34m)\u001b[0m\u001b[0;34m)\u001b[0m\u001b[0;34m\u001b[0m\u001b[0;34m\u001b[0m\u001b[0m\n\u001b[0m\u001b[1;32m      5\u001b[0m \u001b[0mimagePaths\u001b[0m \u001b[0;34m=\u001b[0m \u001b[0mnp\u001b[0m\u001b[0;34m.\u001b[0m\u001b[0marray\u001b[0m\u001b[0;34m(\u001b[0m\u001b[0msorted\u001b[0m\u001b[0;34m(\u001b[0m\u001b[0mimagePaths\u001b[0m\u001b[0;34m)\u001b[0m\u001b[0;34m)\u001b[0m\u001b[0;34m\u001b[0m\u001b[0;34m\u001b[0m\u001b[0m\n\u001b[1;32m      6\u001b[0m \u001b[0;34m\u001b[0m\u001b[0m\n",
      "\u001b[0;31mAttributeError\u001b[0m: module 'imutils' has no attribute 'paths'"
     ]
    }
   ],
   "source": [
    "desc = LabHistogram([8,8,8])\n",
    "data = []\n",
    "\n",
    "imagePaths = list(imutils.paths.list_images(args[\"dataset\"]))\n",
    "imagePaths = np.array(sorted(imagePaths))\n",
    "\n",
    "#loop over input dataset of images\n",
    "for imagePath in imagePaths:\n",
    "    image = cv2.imread(imagePath)\n",
    "    hist = desc.describe(image)\n",
    "    data.append(hist)\n",
    "    \n",
    "#cluster the color histograms\n",
    "clt = KMeans(n_clusters=args[\"cluster\"])\n",
    "labels = clt.fit_predict(data)"
   ]
  },
  {
   "cell_type": "code",
   "execution_count": null,
   "metadata": {},
   "outputs": [],
   "source": [
    "#loop over unique labels\n",
    "for label in np.unique(labels):\n",
    "    #grab all image paths that are assigned to current label\n",
    "    labelPaths = imagePaths[np.where(labels==label)]\n",
    "    \n",
    "    for (i, path) in enumerate(labelPaths):\n",
    "        #load the image and display it\n",
    "        image = cv2.imread(path)\n",
    "        display_image(\"Cluster {}, Image #{}\".format(label+1, i+1), image)"
   ]
  }
 ],
 "metadata": {
  "kernelspec": {
   "display_name": "Python 3",
   "language": "python",
   "name": "python3"
  },
  "language_info": {
   "codemirror_mode": {
    "name": "ipython",
    "version": 3
   },
   "file_extension": ".py",
   "mimetype": "text/x-python",
   "name": "python",
   "nbconvert_exporter": "python",
   "pygments_lexer": "ipython3",
   "version": "3.8.2"
  }
 },
 "nbformat": 4,
 "nbformat_minor": 4
}
