{
 "cells": [
  {
   "cell_type": "markdown",
   "metadata": {},
   "source": [
    "# COLOR HISTOGRAM\n",
    "- Objectives:\n",
    "    - Learn how histograms can be used ass image descriptors\n",
    "    - Apply k-means clustering to cluster color histogram features.\n",
    "- Color histogram counts the number of times a given pixel intensity (or range of pixel intensities) occurs in an image.\n",
    "- Define the type of histogram we want to extract, then extract our color histograms from each image, and then apply k-means clustering to cluster and group the vacation photos into their respective categories"
   ]
  },
  {
   "cell_type": "code",
   "execution_count": 1,
   "metadata": {},
   "outputs": [],
   "source": [
    "import cv2\n",
    "import imutils"
   ]
  },
  {
   "cell_type": "code",
   "execution_count": 2,
   "metadata": {},
   "outputs": [],
   "source": [
    "class LabHistogram:\n",
    "    def __init__(self, bins):\n",
    "        self.bins = bins\n",
    "    \n",
    "    def describe(self, image, mask=None):\n",
    "        #convert image to L*a*b, compute histogram and normalize\n",
    "        lab = cv2.cvtColor(image, cv2.COLOR_BGR2LAB)\n",
    "        hist = cv2.calcHist([lab], [0,1,2], mask, self.bins, [0,256,0,256,0,256])\n",
    "        \n",
    "        hist = cv2.normalize(hist, hist).flatten()\n",
    "        return hist"
   ]
  },
  {
   "cell_type": "markdown",
   "metadata": {},
   "source": [
    "- L*a*b color space is used since it has perceptual and noticeable meaning, thus euclidean distance can be calculated better for k-means\n"
   ]
  }
 ],
 "metadata": {
  "kernelspec": {
   "display_name": "Python 3",
   "language": "python",
   "name": "python3"
  },
  "language_info": {
   "codemirror_mode": {
    "name": "ipython",
    "version": 3
   },
   "file_extension": ".py",
   "mimetype": "text/x-python",
   "name": "python",
   "nbconvert_exporter": "python",
   "pygments_lexer": "ipython3",
   "version": "3.8.2"
  }
 },
 "nbformat": 4,
 "nbformat_minor": 4
}
