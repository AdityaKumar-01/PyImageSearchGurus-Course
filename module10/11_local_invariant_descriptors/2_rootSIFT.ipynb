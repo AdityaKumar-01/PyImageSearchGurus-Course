{
 "cells": [
  {
   "cell_type": "markdown",
   "metadata": {},
   "source": [
    "# RootSIFT\n",
    "- Refer [paper](https://gurus.pyimagesearch.com/wp-content/uploads/2015/07/arandjelovic_2012.pdf)\n",
    "- Simple extension to original SIFT, that can be used to dramatically increase object recognition accuracy, quantization, and retrieval accuracy.\n",
    "- Whether you’re matching descriptors of regions surrounding keypoints, clustering SIFT descriptors using k-means, or building a bag-of-visual-words model, the RootSIFT extension can be used to improve your results.\n",
    "- Problems with SIFT:\n",
    "    - The original paper discusses using euclidean distance. \n",
    "    - When comparing histograms, euclidean distance often yields inferior permformance compared to chi-square or [hellinger kernel](https://en.wikipedia.org/wiki/Hellinger_distance)\n",
    "- Extended algorithm as per RootSIFT:\n",
    "    - Compute SIFT descriptors using favourite SIFT library\n",
    "    - L1 normalize each SIFT vector.\n",
    "    - Take square root of each element in the SIFT vector."
   ]
  },
  {
   "cell_type": "code",
   "execution_count": 1,
   "metadata": {},
   "outputs": [],
   "source": [
    "import sys\n",
    "sys.path.append(\"../../\")"
   ]
  },
  {
   "cell_type": "code",
   "execution_count": 2,
   "metadata": {},
   "outputs": [],
   "source": [
    "import numpy as np\n",
    "import cv2\n",
    "import imutils\n",
    "from cv_imshow import display_image, create_subplot"
   ]
  },
  {
   "cell_type": "code",
   "execution_count": 3,
   "metadata": {},
   "outputs": [],
   "source": [
    "args = {\n",
    "    \"image1\":\"../../images/fast_book_cover.png\",\n",
    "    \"pen\":\"../../images/keypoint_detect/pen.jpg\"\n",
    "}"
   ]
  },
  {
   "cell_type": "code",
   "execution_count": 4,
   "metadata": {},
   "outputs": [],
   "source": [
    "class RootSIFT:\n",
    "    def __init__(self):\n",
    "        #init SIFT feature extractor \n",
    "        self.extractor = cv2.xfeatures2d.SIFT_create()\n",
    "        \n",
    "    def compute(self, image, kps, eps=1e-7):\n",
    "        #compute SIFT descriptors\n",
    "        (kps, descs) = self.extractor.detectAndCompute(image, None)\n",
    "        \n",
    "        if len(kps)==0:\n",
    "            return ([], None)\n",
    "        \n",
    "        #apply the Hellinger kernel\n",
    "        #by applying Hellinger kernel by first L1-normalizing\n",
    "        #and taking square-root\n",
    "        descs /= (descs.sum(axis=1, keepdims=True)+eps)\n",
    "        descs = np.sqrt(descs)\n",
    "        \n",
    "        #return tuple of keypoints and descriptors\n",
    "        return (kps, descs)"
   ]
  },
  {
   "cell_type": "code",
   "execution_count": 7,
   "metadata": {},
   "outputs": [],
   "source": [
    "def feature_extractor(imagepath):\n",
    "    image = cv2.imread(imagepath)\n",
    "    gray = cv2.cvtColor(image, cv2.COLOR_BGR2GRAY)\n",
    "    \n",
    "    #init the keypoint detector and local invariant descriptor.\n",
    "    detector = cv2.xfeatures2d.SIFT_create()\n",
    "    extractor = RootSIFT()\n",
    "    \n",
    "    #detect keypoints\n",
    "    (kps, _) = detector.detectAndCompute(gray, None)\n",
    "    \n",
    "    #extract local invarient descriptors.\n",
    "    (kps, descs) = extractor.compute(gray, None)\n",
    "    \n",
    "    # show the shape of the keypoints and local invariant descriptors array\n",
    "    print(\"[INFO] # of keypoints detected: {}\".format(len(kps)))\n",
    "    print(\"[INFO] feature vector shape: {}\".format(descs.shape))"
   ]
  },
  {
   "cell_type": "code",
   "execution_count": 8,
   "metadata": {},
   "outputs": [
    {
     "name": "stdout",
     "output_type": "stream",
     "text": [
      "[INFO] # of keypoints detected: 660\n",
      "[INFO] feature vector shape: (660, 128)\n"
     ]
    }
   ],
   "source": [
    "feature_extractor(args[\"image1\"])"
   ]
  },
  {
   "cell_type": "code",
   "execution_count": null,
   "metadata": {},
   "outputs": [],
   "source": []
  }
 ],
 "metadata": {
  "kernelspec": {
   "display_name": "Python 3",
   "language": "python",
   "name": "python3"
  },
  "language_info": {
   "codemirror_mode": {
    "name": "ipython",
    "version": 3
   },
   "file_extension": ".py",
   "mimetype": "text/x-python",
   "name": "python",
   "nbconvert_exporter": "python",
   "pygments_lexer": "ipython3",
   "version": "3.8.2"
  }
 },
 "nbformat": 4,
 "nbformat_minor": 4
}
