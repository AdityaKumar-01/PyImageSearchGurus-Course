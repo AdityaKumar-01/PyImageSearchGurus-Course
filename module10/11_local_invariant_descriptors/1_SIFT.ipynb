{
 "cells": [
  {
   "cell_type": "markdown",
   "metadata": {},
   "source": [
    "# SIFT\n",
    "- Local feature desriptors are broken down into two phases\n",
    "- The first phase indentifies interesting, salient regions of an image that should be described and quantified. These regions are called keypoints and may correspond to edges or \"blob\"-like structures of an image.\n",
    "- Then we extract and quantify the local region surrounding each keypoint. The feature vector associated with a keypoint is called local feature.\n",
    "- Same [paper](https://gurus.pyimagesearch.com/wp-content/uploads/2015/06/lowe_1999.pdf) as DoG\n",
    "\n",
    "## How it works\n",
    "- SIFT feature detector requries a set of input keypoints. \n",
    "- Step 1:\n",
    "    - For each of the input keypoints, SIFT takes the 16x16 pixel region surrounding the center pixel of the keypoint region.\n",
    "    - From there, we divide the 16x16 region into sixteen 4x4 pixel windows.\n",
    "- Step 2: \n",
    "    - For each of the 16 windows, we compute the gradient magnitude and orientation, just like we did for the HOG desecriptor.\n",
    "    - Given the gradient magniture and orientation, we construct an 8-bin histogram for each of the 4x4 pixel windows.\n",
    "    - Basically, we can take it this way:\n",
    "        - In a particular neighborhood of 4x4, we have each pixel having its own gradient magnitude $G$ and $\\theta$.\n",
    "        - We construct a histo graph, where number of orientations, .ie., bins, we want to consider is 8. Each bin has an interval of 20 degrees. \n",
    "        - We loop through each pixel in the region, and add the gradient magnitude value to bin that corresponds to the pixel orientation. \n",
    "        - However, instead of raw magnitude, the algorithm utilizes Gaussian weighting,.ie., the farther the pixel is from keypoint center, less it contirbutes to overall histogram.\n",
    "- Step 3:\n",
    "    - Collect all 16 of these 8-bin orientation histograms and concatenate them together.\n",
    "    - Given that we have 16 of these histogram, for each keypoint, we end up with a feature vector of $16*8=128-dim$\n",
    "    - After concat, we L2-normalize the entire feature vector.\n",
    "    - SIFT feacture vector is finished and ready to be compared to other SIFT feature vectors.\n",
    "- Local descriptors return N feature vectors per image, where N is number of detected keypoints.\n",
    "- This implies, if we get a 128-dim feature vector per keypoint, we end up with Nx128-dim feature vectors per image"
   ]
  },
  {
   "cell_type": "code",
   "execution_count": 1,
   "metadata": {},
   "outputs": [],
   "source": [
    "import sys\n",
    "sys.path.append(\"../../\")"
   ]
  },
  {
   "cell_type": "code",
   "execution_count": 2,
   "metadata": {},
   "outputs": [],
   "source": [
    "import numpy as np\n",
    "import cv2\n",
    "import imutils\n",
    "from cv_imshow import display_image, create_subplot"
   ]
  },
  {
   "cell_type": "code",
   "execution_count": 3,
   "metadata": {},
   "outputs": [],
   "source": [
    "args = {\n",
    "    \"image1\":\"../../images/fast_book_cover.png\",\n",
    "    \"pen\":\"../../images/keypoint_detect/pen.jpg\"\n",
    "}"
   ]
  },
  {
   "cell_type": "code",
   "execution_count": 7,
   "metadata": {},
   "outputs": [],
   "source": [
    "def sift(imagepath):\n",
    "    image = cv2.imread(imagepath)\n",
    "    gray = cv2.cvtColor(image, cv2.COLOR_BGR2GRAY)\n",
    "    \n",
    "    #init keypoint detector\n",
    "    detector = cv2.xfeatures2d.SIFT_create()\n",
    "    \n",
    "    #detect keypoints and extract local invariant descriptors.\n",
    "    (kps, descs) = detector.detectAndCompute(gray, None)\n",
    "    \n",
    "    # show the shape of the keypoints and local invariant descriptors array\n",
    "    print(\"[INFO] # of keypoints detected: {}\".format(len(kps)))\n",
    "    print(\"[INFO] feature vector shape: {}\".format(descs.shape))"
   ]
  },
  {
   "cell_type": "code",
   "execution_count": 8,
   "metadata": {},
   "outputs": [
    {
     "name": "stdout",
     "output_type": "stream",
     "text": [
      "[INFO] # of keypoints detected: 660\n",
      "[INFO] feature vector shape: (660, 128)\n"
     ]
    }
   ],
   "source": [
    "sift(args[\"image1\"])"
   ]
  },
  {
   "cell_type": "code",
   "execution_count": 9,
   "metadata": {},
   "outputs": [
    {
     "name": "stdout",
     "output_type": "stream",
     "text": [
      "[INFO] # of keypoints detected: 175\n",
      "[INFO] feature vector shape: (175, 128)\n"
     ]
    }
   ],
   "source": [
    "sift(args[\"pen\"])"
   ]
  },
  {
   "cell_type": "code",
   "execution_count": null,
   "metadata": {},
   "outputs": [],
   "source": []
  }
 ],
 "metadata": {
  "kernelspec": {
   "display_name": "Python 3",
   "language": "python",
   "name": "python3"
  },
  "language_info": {
   "codemirror_mode": {
    "name": "ipython",
    "version": 3
   },
   "file_extension": ".py",
   "mimetype": "text/x-python",
   "name": "python",
   "nbconvert_exporter": "python",
   "pygments_lexer": "ipython3",
   "version": "3.8.2"
  }
 },
 "nbformat": 4,
 "nbformat_minor": 4
}
