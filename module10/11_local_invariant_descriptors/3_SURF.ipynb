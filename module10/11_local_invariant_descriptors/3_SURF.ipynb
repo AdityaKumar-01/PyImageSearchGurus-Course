{
 "cells": [
  {
   "cell_type": "markdown",
   "metadata": {},
   "source": [
    "# SURF\n",
    "- Keypoint descriptor mentioned in [paper](https://gurus.pyimagesearch.com/wp-content/uploads/2015/06/bay_2006.pdf) on SURF is Fast Hessian(10.10.5)\n",
    "- Advantages over SIFT descriptor\n",
    "    - Faster\n",
    "    - Half the size. SIFT return a feature vector of 128-dim, while SURF return 64-dim.\n",
    "\n",
    "## How it works\n",
    "- Step1:\n",
    "    - Select rectangular regions surrounding the keypoint. \n",
    "    - The exact size of the region is determined during keypoint detection phase, which is normally Fast Hessian method.\n",
    "- Step2:\n",
    "    - Loop over each detected keypoint and divide keypoint region into 4x4 sub-areas, just like SIFT\n",
    "    - For each of these 4x4 sub-areas, Haar wavelet responses are extracted at 5x5 regularly spaced sample points.\n",
    "    - For each window, Haar wavelet response if computed in both x and y direction. We'll call these responses $d_x$ and $d_y$.\n",
    "    - Now we that we $d_x$ and $d_y$, we weigh them using a Gaussian kernel, like in SIFT. Responses that are farther away from the keypoint center will contribute less to final feature vector and vice-versa.\n",
    "- Step3:\n",
    "    - Compute feature vector.\n",
    "    - For each 4x4 sub areas, we compute\n",
    "$$\n",
    "v = \\{\\sum d_{x} \\sum d_{y} \\sum |d_{x}| \\sum |d_{y}| \\}\n",
    "$$\n",
    "    - The first two entries in the feature vector, $\\sum d_{x}$ and $\\sum d_{y}$, are simply abstractions of the Haar wavelet responses. In the second two entries, $\\sum |d_{x}|$ and $\\sum |d_{y}|$, we take the absolute value to bring in information regarding signs of the intensity changes.\n",
    "    - Thus, we have 4 x 4 = 16 sub-areas, each returning a vector of 4-dim. These feature vectors with 4-dim are then all concatenated. Therefore, 16 x 4 = 64-dim for the final SURF feature vector \n",
    "    - The resulting 64-dim feature vector is L2 normalized"
   ]
  },
  {
   "cell_type": "code",
   "execution_count": 1,
   "metadata": {},
   "outputs": [],
   "source": [
    "import cv2\n",
    "import imutils"
   ]
  },
  {
   "cell_type": "code",
   "execution_count": 2,
   "metadata": {},
   "outputs": [],
   "source": [
    "args = {\n",
    "    \"image\":\"../../images/fast_book_cover.png\"\n",
    "}"
   ]
  },
  {
   "cell_type": "code",
   "execution_count": 3,
   "metadata": {},
   "outputs": [],
   "source": [
    "def surf(imagepath):\n",
    "    image = cv2.imread(imagepath)\n",
    "    gray = cv2.cvtColor(image, cv2.COLOR_BGR2GRAY)\n",
    "    \n",
    "    #init keypoint detector and local invariant descriptor\n",
    "    detector = cv2.xfeatures2d.SURF_create()\n",
    " \n",
    "    # detect keypoints and extract local invariant descriptors\n",
    "    (kps, descs) = detector.detectAndCompute(gray, None)\n",
    "    \n",
    "    # show the shape of the keypoints and local invariant descriptors array\n",
    "    print(\"[INFO] # of keypoints detected: {}\".format(len(kps)))\n",
    "    print(\"[INFO] feature vector shape: {}\".format(descs.shape))"
   ]
  },
  {
   "cell_type": "code",
   "execution_count": 4,
   "metadata": {},
   "outputs": [
    {
     "name": "stdout",
     "output_type": "stream",
     "text": [
      "[INFO] # of keypoints detected: 1028\n",
      "[INFO] feature vector shape: (1028, 64)\n"
     ]
    }
   ],
   "source": [
    "surf(args[\"image\"])"
   ]
  },
  {
   "cell_type": "code",
   "execution_count": null,
   "metadata": {},
   "outputs": [],
   "source": []
  }
 ],
 "metadata": {
  "kernelspec": {
   "display_name": "Python 3",
   "language": "python",
   "name": "python3"
  },
  "language_info": {
   "codemirror_mode": {
    "name": "ipython",
    "version": 3
   },
   "file_extension": ".py",
   "mimetype": "text/x-python",
   "name": "python",
   "nbconvert_exporter": "python",
   "pygments_lexer": "ipython3",
   "version": "3.8.2"
  }
 },
 "nbformat": 4,
 "nbformat_minor": 4
}
