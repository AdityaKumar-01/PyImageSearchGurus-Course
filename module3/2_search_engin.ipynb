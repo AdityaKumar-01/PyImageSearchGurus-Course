{
 "cells": [
  {
   "cell_type": "markdown",
   "metadata": {},
   "source": [
    "# First CBIR system\n",
    "- Goal here is to build our first image search engine.\n",
    "- Given our dataset of phots  we want to make this dataset \"search-able\" by creating a \"more like this\" functionality.\n",
    "- Here, we are going to use **Color Histogram** as our image descriptor\n",
    "***\n",
    "## Step 1: Defining our Image Descriptor.\n",
    "- Image descriptor will be a 3D color histogram in the HSV color space, because RGB fails to mimic how humans perceive color.\n",
    "- "
   ]
  }
 ],
 "metadata": {
  "kernelspec": {
   "display_name": "Python 3",
   "language": "python",
   "name": "python3"
  },
  "language_info": {
   "codemirror_mode": {
    "name": "ipython",
    "version": 3
   },
   "file_extension": ".py",
   "mimetype": "text/x-python",
   "name": "python",
   "nbconvert_exporter": "python",
   "pygments_lexer": "ipython3",
   "version": "3.8.2"
  }
 },
 "nbformat": 4,
 "nbformat_minor": 4
}
