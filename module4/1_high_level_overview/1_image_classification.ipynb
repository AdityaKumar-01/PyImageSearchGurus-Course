{
 "cells": [
  {
   "cell_type": "markdown",
   "metadata": {},
   "source": [
    "# IMAGE CLASSIFICATION\n",
    "- Task of applying computer vision and ML algo to extract meaning from an image. \n",
    "- Task of assigning a label to an image from a pre-defined set of categories.\n",
    "- Description of an image can be made as follows:\n",
    "    - Spatial: The sky is at the top of the image and sand/ocean are at the bottom.\n",
    "    - Color: The sku is dark blue, ocean is lighter than sky, while sand is tan.\n",
    "    - Texture: Sky is relatively uniform pattern, while sand is very coarse.\n",
    "- We use forms of image descriptors and deep learning methods to encode information of an image, in a way computer can understand.\n",
    "\n",
    "## Challenges\n",
    "- Challenges are as follows:\n",
    "    - Viewpoint variation: Where an object can rotated w.r.t to how object is photgraphed and capture. In any angle captured, a dog in an image will be a dog. \n",
    "    - Scale Variation: Different sizes of a cup of coffee should be classified as a cup.\n",
    "    - Deformation: A dog posing in different positions should still be classified as a dog.\n",
    "    - Occlusions: Where large parts of the object we want t classify are hidden from view in the image.\n",
    "    - Illuminations: An object in different pictures with different lighting should be classified correctly.\n",
    "    - Background clutter: Classifying a single object in an image with multiple different objects.\n",
    "    - Intra-class variation: Different types of chairs should be classified as a chair.\n",
    "- The key takeaway here is to always consider the scope of your image classifier — especially when you are first getting started. Keep the scope as tight and well-defined as possible, and you’re much more likely to end up with a working system."
   ]
  },
  {
   "cell_type": "markdown",
   "metadata": {},
   "source": [
    "# TYPES OF LEARNING\n",
    "\n",
    "## Supervised Learning\n",
    "- Given our training data, a model/classifier is createdd through a training process where predictions are made on the input data and then corrected when the predictions are wrong.\n",
    "- This training process is repeated until we get a satisfactory accuracy in classification.\n",
    "\n",
    "## Unsupervised Learning\n",
    "- Has no labels associated with input data and thus we can correct our model if it makes an incorrect prediction.\n",
    "- Most unsupervised learning methods are focused on deducing structure present in the input data.\n",
    "- In 10.3, we cluster our vacation photo into two separate groups using k-means algo.\n",
    "- By applyinh k-means algo, we were able to automatically cluster our vacation photo images into their respective groups based only on color histogram extracted from image. \n",
    "- Other popular unsupervised learning algorithms include the Gaussian processes, the *A Priori* for association rule learning, and Principal Component Analysis(PCA) for dimensionality reduction, which is useful for face detection in the Eigen Faces Algorithm(5.3)\n",
    "\n",
    "## Semi-Supervised Learning\n",
    "- If we have labels associated for some data and no labels for the other, we apply some hybrid supervised and unsupervised learning and still be able to classify each of our data points.\n",
    "- We take the known pieces of data, analyze them and try to label each of the unlabeled data points for use as extra training data. \n",
    "- Used in cases where it is tie consuming to label each and every data point."
   ]
  },
  {
   "cell_type": "code",
   "execution_count": null,
   "metadata": {},
   "outputs": [],
   "source": []
  }
 ],
 "metadata": {
  "kernelspec": {
   "display_name": "Python 3",
   "language": "python",
   "name": "python3"
  },
  "language_info": {
   "codemirror_mode": {
    "name": "ipython",
    "version": 3
   },
   "file_extension": ".py",
   "mimetype": "text/x-python",
   "name": "python",
   "nbconvert_exporter": "python",
   "pygments_lexer": "ipython3",
   "version": "3.8.2"
  }
 },
 "nbformat": 4,
 "nbformat_minor": 4
}
