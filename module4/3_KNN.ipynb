{
 "cells": [
  {
   "cell_type": "markdown",
   "metadata": {},
   "source": [
    "# K-Nearest Neighbor Classifier\n",
    "- K-NN algorithm classifies unknown data points by finding the most common class among the **k** closest examples. \n",
    "- Each data point in the k closest data points casts a vote and the category with the highest number of vote wins.\n",
    "- To apply K-NN, we first need to select a distance metric or similarity function, such as Euclidean distance (or L2 distance)\n",
    "$$\n",
    "d(p,q) = \\sqrt(\\sum_{i-1}^N(q_i-p_i)^2)\n",
    "$$\n",
    "- Even Manhattan/city block distance(called L1-distance):\n",
    "$$\n",
    "d(p,q) = \\sum_{i-1}^N|q_i-p_i|\n",
    "$$\n",
    "\n",
    "## Hyperparameter Tuning\n",
    "- There are two paramters to tune:\n",
    "    - Value of k: If it's too small, we gain efficiency but become susceptible to noise and outliers. If it is too large, we are at risk of over smoothing our classification results and increasing bias.\n",
    "    - Distance metric: L1 or L2\n",
    "- To tune the hyperparameters, we split our data into three sets: training, validation and testing set.\n",
    "- Using the three-split scheme we can:\n",
    "    - Train our classifier on training data using various values of k and distance metrics.\n",
    "    - Evaluate the performance of the classifier on validation set, keeping track of which parameters obtained the highest acc.\n",
    "    - Take the parameters that obtained highest acc and use it to train the model.\n",
    "    - Evaluate the best classifier on the test set.\n",
    "\n",
    "## Recognizing handwritten digit using MNIST\n",
    "- Five step pipeline:\n",
    "    - Step1: Structuring our initial dataset: Our dataset consists of images in grayscale, and have been pre-processed, aligned and centered, thus we can skip this step.\n",
    "    - Step2: Splitting dataset\n",
    "    - Step3: Extracting features: We'll use raw grayscale pixel intensities of image.\n",
    "    - Step4: Training our classification model.\n",
    "    - Step5: Evaluating our classifier"
   ]
  },
  {
   "cell_type": "code",
   "execution_count": 1,
   "metadata": {},
   "outputs": [],
   "source": [
    "import sys\n",
    "sys.path.append(\"../\")"
   ]
  },
  {
   "cell_type": "code",
   "execution_count": 3,
   "metadata": {},
   "outputs": [],
   "source": [
    "from sklearn.neighbors import KNeighborsClassifier\n",
    "from sklearn.metrics import classification_report\n",
    "from sklearn import datasets\n",
    "from skimage import exposure\n",
    "import numpy as np\n",
    "import imutils\n",
    "import cv2\n",
    "import sklearn\n",
    "from cv_imshow import display_image, create_subplot\n",
    "from sklearn.model_selection import train_test_split"
   ]
  },
  {
   "cell_type": "code",
   "execution_count": 4,
   "metadata": {},
   "outputs": [
    {
     "name": "stdout",
     "output_type": "stream",
     "text": [
      "training data points: 1212\n",
      "validation data points: 135\n",
      "testing data points: 450\n"
     ]
    }
   ],
   "source": [
    "#load MNIST dataset\n",
    "mnist = datasets.load_digits()\n",
    "\n",
    "#construct training and testing split using 75%-25%.\n",
    "(trainingData, testData, trainLabels, testLabels) = train_test_split(np.array(mnist.data),\n",
    "                                                                    mnist.target, test_size=0.25, random_state=42)\n",
    "\n",
    "#10% of training for validation\n",
    "(trainData, valData, trainLabels, valLabels) = train_test_split(trainingData,\n",
    "                                                               trainLabels, test_size=0.1, random_state=84)\n",
    "\n",
    "print(\"training data points: {}\".format(len(trainLabels)))\n",
    "print(\"validation data points: {}\".format(len(valLabels)))\n",
    "print(\"testing data points: {}\".format(len(testLabels)))"
   ]
  },
  {
   "cell_type": "code",
   "execution_count": 5,
   "metadata": {},
   "outputs": [
    {
     "name": "stdout",
     "output_type": "stream",
     "text": [
      "k=1 accuracy=99.26%\n",
      "k=3 accuracy=99.26%\n",
      "k=5 accuracy=99.26%\n",
      "k=7 accuracy=99.26%\n",
      "k=9 accuracy=99.26%\n",
      "k=11 accuracy=99.26%\n",
      "k=13 accuracy=99.26%\n",
      "k=15 accuracy=99.26%\n",
      "k=17 accuracy=98.52%\n",
      "k=19 accuracy=98.52%\n",
      "k=21 accuracy=97.78%\n",
      "k=23 accuracy=97.04%\n",
      "k=25 accuracy=97.78%\n",
      "k=27 accuracy=97.04%\n",
      "k=29 accuracy=97.04%\n",
      "k=1 achieved highest accuracy of 99.26% on validation data\n"
     ]
    }
   ],
   "source": [
    "#init k for our KNN\n",
    "kVals = range(1, 30, 2)\n",
    "accuracies = []\n",
    "\n",
    "for k in kVals:\n",
    "    model = KNeighborsClassifier(n_neighbors=k)\n",
    "    model.fit(trainData, trainLabels)\n",
    "    \n",
    "    score = model.score(valData, valLabels)\n",
    "    print(\"k=%d accuracy=%.2f%%\" % (k, score*100))\n",
    "    accuracies.append(score)\n",
    "    \n",
    "i = int(np.argmax(accuracies))\n",
    "print(\"k=%d achieved highest accuracy of %.2f%% on validation data\" % (kVals[i], accuracies[i] * 100))"
   ]
  },
  {
   "cell_type": "code",
   "execution_count": 6,
   "metadata": {},
   "outputs": [
    {
     "name": "stdout",
     "output_type": "stream",
     "text": [
      "EVALUATION ON TESTING DATA\n",
      "              precision    recall  f1-score   support\n",
      "\n",
      "           0       1.00      1.00      1.00        43\n",
      "           1       0.95      1.00      0.97        37\n",
      "           2       1.00      1.00      1.00        38\n",
      "           3       0.98      0.98      0.98        46\n",
      "           4       0.98      0.98      0.98        55\n",
      "           5       0.98      1.00      0.99        59\n",
      "           6       1.00      1.00      1.00        45\n",
      "           7       1.00      0.98      0.99        41\n",
      "           8       0.97      0.95      0.96        38\n",
      "           9       0.96      0.94      0.95        48\n",
      "\n",
      "    accuracy                           0.98       450\n",
      "   macro avg       0.98      0.98      0.98       450\n",
      "weighted avg       0.98      0.98      0.98       450\n",
      "\n"
     ]
    }
   ],
   "source": [
    "#re-train our classifier using the best k value and predict the labels of the\n",
    "# test data\n",
    "model = KNeighborsClassifier(n_neighbors=kVals[i])\n",
    "model.fit(trainData, trainLabels)\n",
    "predictions = model.predict(testData)\n",
    " \n",
    "# show a final classification report demonstrating the accuracy of the classifier\n",
    "# for each of the digits\n",
    "print(\"EVALUATION ON TESTING DATA\")\n",
    "print(classification_report(testLabels, predictions))"
   ]
  },
  {
   "cell_type": "code",
   "execution_count": null,
   "metadata": {},
   "outputs": [],
   "source": []
  }
 ],
 "metadata": {
  "kernelspec": {
   "display_name": "Python 3",
   "language": "python",
   "name": "python3"
  },
  "language_info": {
   "codemirror_mode": {
    "name": "ipython",
    "version": 3
   },
   "file_extension": ".py",
   "mimetype": "text/x-python",
   "name": "python",
   "nbconvert_exporter": "python",
   "pygments_lexer": "ipython3",
   "version": "3.8.2"
  }
 },
 "nbformat": 4,
 "nbformat_minor": 4
}
