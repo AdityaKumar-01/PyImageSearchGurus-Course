{
 "cells": [
  {
   "cell_type": "markdown",
   "metadata": {},
   "source": [
    "# PIPELINE\n",
    "\n",
    "## Step 1: Structuring your initial dataset\n",
    "- We need images themselves as well as labels associated with each image. \n",
    "- Number of images for each category should be uniform. \n",
    "\n",
    "## Step 2: Splitting our dataset\n",
    "- Need to split dataset into two parts:\n",
    "    - Training set is used by classifier to learn what each category looks like by making predictions on input data and the correct it when predictions are wrong\n",
    "    - Test set is used to evaluate performance. No tuning of hyperparameters\n",
    "    - Validation set: This split comes from training data, and we can tune our hyperparamters\n",
    "- Training and testing data should not overlap\n",
    "\n",
    "## Step 3: Feature extraction\n",
    "- Commo choices of features include:\n",
    "    - Color histograms (10.3)\n",
    "    - Histogram of Oriented Gradients (10.8) \n",
    "    - Local binary patterns (10.7)\n",
    "- And pretty much every other descriptor\n",
    "\n",
    "## Step 4: Training your classifier\n",
    "- Make classifier to learn how to recognize each of the categories in our label data. \n",
    "- Algorithms like SVM, Dtree, Random Forest Classifier are used.\n",
    "\n",
    "## Step 5: Evaluation\n",
    "- For each feature vector in our testing set, we present them to our classifier and ask it to predict its label. \n",
    "- We compute number of predictions our classifier got right and compute aggregate reports such as precision, recall, and f-measure."
   ]
  },
  {
   "cell_type": "code",
   "execution_count": null,
   "metadata": {},
   "outputs": [],
   "source": []
  }
 ],
 "metadata": {
  "kernelspec": {
   "display_name": "Python 3",
   "language": "python",
   "name": "python3"
  },
  "language_info": {
   "codemirror_mode": {
    "name": "ipython",
    "version": 3
   },
   "file_extension": ".py",
   "mimetype": "text/x-python",
   "name": "python",
   "nbconvert_exporter": "python",
   "pygments_lexer": "ipython3",
   "version": "3.8.2"
  }
 },
 "nbformat": 4,
 "nbformat_minor": 4
}
