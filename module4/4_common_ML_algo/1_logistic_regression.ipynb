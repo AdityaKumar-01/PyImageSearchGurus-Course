{
 "cells": [
  {
   "cell_type": "markdown",
   "metadata": {},
   "source": [
    "# Logistic Regression\n",
    "- Learn sigmoid function, gradient descent/ascent.\n",
    "\n",
    "## Cats and Dogs example\n",
    "- To classify cats(Label **O**) and dog(label **1**). Let's denote this as $L={0,1}$. \n",
    "- We extract set of feature vectors(**F**) from our dataset\n",
    "- Using logistic regression, L and F, we want to creat a function that takes new feature vector and outputs either 0 or 1.\n",
    "- Instead of using step function (non-differentiable), we use sigmoid function:\n",
    "$$\n",
    "s(t) = 1/(1+e^{-t})\n",
    "$$\n",
    "- For a given image, say we extract following feature vector\"\n",
    "$$\n",
    "v = [v_0, v_1,  v_2, ..., v_n]\n",
    "$$\n",
    "- To perform classification using Logistic regression, we'll multiply each of our feature vector values $v_i$ by a weight $w_i$ and take sum:\n",
    "$$\n",
    "x = \\sum_{i}w_iv_i\n",
    "$$\n",
    "$$\n",
    "x = w^Tv\n",
    "$$\n",
    "$$\n",
    "x = w_{0}v_{0} + w_{1}v_{1} + w_{2}v_{2} + \\cdots + w_{n}v_{n}\n",
    "$$\n",
    "- The $x$ value is then passed through $\\sigma$ function where output is constrained such that:\n",
    "$$\n",
    "0 \\le \\sigma(x) \\le 1\n",
    "$$\n",
    "- The classified label will be\n",
    "$$\n",
    "L = \n",
    "\\begin{cases}\n",
    "1&\\text{$s(x) \\ge 0.5$}\\\\\n",
    "0&\\text{$s(x) \\lt 0.5$}\n",
    "\\end{cases}\n",
    "$$\n",
    "\n",
    "## Gradient descent and ascent\n",
    "- We use gradient ascent and descent to find the local minimum/maximum of a function.\n",
    "- Steps:\n",
    "    - Extract feature vectors from all images in our dataset.\n",
    "    - Initialize all weight entries w to 1.\n",
    "    - Loop N times (or until convergence)\n",
    "        - Calculate the gradient of the entire dataset.\n",
    "        - Update the weight entries based on the current values of w, gradient, and learning rate $\\alpha$.\n",
    "    - Return weights w.\n",
    "- The gradient is out error E, which is:\n",
    "$$\n",
    "E = (L - s(F_{t} \\times w))\n",
    "$$\n",
    "where $F_t$ are feature vectors of training set\n",
    "- We can then update weight vector by using:\n",
    "$$\n",
    "w = w + (\\alpha \\times (F_{t}^{T} \\times E))\n",
    "$$\n",
    "- Where the $\\alpha$ parameter controls the magnitude (i.e. size) of our step. Larger values of $\\alpha$ will take larger steps and learn faster, but can skip right over optimal values of w. Similarly, smaller values of $\\alpha$ will take smaller steps, learn slower, but may get stuck in local minima/maxima and miss finding optimal values of w altogether.\n",
    "- We start off at w_{0} where we have trivially initialized our weights. Then, at each subsequent iteration, our algorithm moves closer and closer to the optimal w values marked at the center region of the figure.\n",
    "\n",
    "## Applying Logistic regression on face classification"
   ]
  },
  {
   "cell_type": "code",
   "execution_count": 1,
   "metadata": {},
   "outputs": [
    {
     "name": "stdout",
     "output_type": "stream",
     "text": [
      "[INFO] fetching data...\n"
     ]
    }
   ],
   "source": [
    "from __future__ import print_function\n",
    "from sklearn.metrics import classification_report\n",
    "from sklearn.linear_model import LogisticRegression\n",
    "from sklearn import datasets\n",
    "import numpy as np\n",
    "import imutils\n",
    "import cv2\n",
    "import sklearn\n",
    " \n",
    "# handle older versions of sklearn\n",
    "if int((sklearn.__version__).split(\".\")[1]) < 18:\n",
    "    from sklearn.cross_validation import train_test_split\n",
    " \n",
    "#otherwise we're using at lease version 0.18\n",
    "else:\n",
    "    from sklearn.model_selection import train_test_split\n",
    " \n",
    "# grab a small subset of the Labeled Faces in the Wild dataset, then construct\n",
    "# the training and testing splits (note: if this is your first time running this\n",
    "# script it may take awhile for the dataset to download -- but once it has downloaded\n",
    "# the data will be cached locally and subsequent runs will be substantially faster)\n",
    "print(\"[INFO] fetching data...\")\n",
    "dataset = datasets.fetch_lfw_people(min_faces_per_person=70, funneled=True, resize=0.5)\n",
    "(trainData, testData, trainLabels, testLabels) = train_test_split(dataset.data, dataset.target,\n",
    "                                                                  test_size=0.25, random_state=42)"
   ]
  },
  {
   "cell_type": "code",
   "execution_count": 2,
   "metadata": {},
   "outputs": [
    {
     "name": "stdout",
     "output_type": "stream",
     "text": [
      "[INFO] training model...\n",
      "                   precision    recall  f1-score   support\n",
      "\n",
      "     Ariel Sharon       0.47      0.54      0.50        13\n",
      "     Colin Powell       0.87      0.87      0.87        60\n",
      "  Donald Rumsfeld       0.61      0.63      0.62        27\n",
      "    George W Bush       0.91      0.88      0.90       146\n",
      "Gerhard Schroeder       0.63      0.76      0.69        25\n",
      "      Hugo Chavez       0.64      0.47      0.54        15\n",
      "       Tony Blair       0.76      0.81      0.78        36\n",
      "\n",
      "         accuracy                           0.80       322\n",
      "        macro avg       0.70      0.71      0.70       322\n",
      "     weighted avg       0.81      0.80      0.81       322\n",
      "\n"
     ]
    },
    {
     "name": "stderr",
     "output_type": "stream",
     "text": [
      "/home/vinayak/.virtualenvs/gurus/lib/python3.8/site-packages/sklearn/linear_model/_logistic.py:762: ConvergenceWarning: lbfgs failed to converge (status=1):\n",
      "STOP: TOTAL NO. of ITERATIONS REACHED LIMIT.\n",
      "\n",
      "Increase the number of iterations (max_iter) or scale the data as shown in:\n",
      "    https://scikit-learn.org/stable/modules/preprocessing.html\n",
      "Please also refer to the documentation for alternative solver options:\n",
      "    https://scikit-learn.org/stable/modules/linear_model.html#logistic-regression\n",
      "  n_iter_i = _check_optimize_result(\n"
     ]
    }
   ],
   "source": [
    "print(\"[INFO] training model...\")\n",
    "model = LogisticRegression()\n",
    "model.fit(trainData, trainLabels)\n",
    "print(classification_report(testLabels, model.predict(testData),\n",
    "                            target_names=dataset.target_names))"
   ]
  },
  {
   "cell_type": "code",
   "execution_count": null,
   "metadata": {},
   "outputs": [],
   "source": []
  }
 ],
 "metadata": {
  "kernelspec": {
   "display_name": "Python 3",
   "language": "python",
   "name": "python3"
  },
  "language_info": {
   "codemirror_mode": {
    "name": "ipython",
    "version": 3
   },
   "file_extension": ".py",
   "mimetype": "text/x-python",
   "name": "python",
   "nbconvert_exporter": "python",
   "pygments_lexer": "ipython3",
   "version": "3.8.2"
  }
 },
 "nbformat": 4,
 "nbformat_minor": 4
}
